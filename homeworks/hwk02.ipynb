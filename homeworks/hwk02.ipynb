{
 "cells": [
  {
   "cell_type": "markdown",
   "metadata": {},
   "source": [
    "# MAT281 - Tarea 2"
   ]
  },
  {
   "cell_type": "markdown",
   "metadata": {},
   "source": [
    "**Indicaciones**:\n",
    "\n",
    "* En los **Ejercicio 1-8** puedes utilizar tanto `matplotlib` como `altair` según te parezca más conveniente o cómodo, en ambos casos cada gráfico debe tener elementos mínimos como:\n",
    "    - Título\n",
    "    - Nombre de los ejes, leyendas, etc. en formato _amigable_/_humano_, por ejemplo, si la columna del dataframe en cuestión tiene por nombre `casos_confirmados` se espera que el eje del gráfico tenga por nombre `Casos confirmados`.\n",
    "    - Colores adecuados al tipo de datos.\n",
    "    - Un tamaño adecuado para ver con facilidad en una pantalla con resolución HD o FullHD.\n",
    "    - Cada vez que no se cumplan alguna de estos requerimientos se descontará __1 punto__ de la nota final.\n",
    "\n",
    "* Para el **Ejercicio 9** es obligación utilizar `altair`.\n",
    "* Cada ejercicio debe estar acompañado con una celda con comentarios o análisis que puedas desprender de los gráficos."
   ]
  },
  {
   "cell_type": "code",
   "execution_count": null,
   "metadata": {},
   "outputs": [],
   "source": [
    "import numpy as np\n",
    "import pandas as pd\n",
    "import matplotlib.pyplot as plt\n",
    "import altair as alt\n",
    "import ipywidgets as widgets\n",
    "\n",
    "from datetime import date\n",
    "from ipywidgets import interactive, interact\n",
    "\n",
    "pd.set_option('display.max_columns', 999)\n",
    "alt.data_transformers.disable_max_rows()\n",
    "alt.themes.enable('opaque')\n",
    "\n",
    "%matplotlib inline"
   ]
  },
  {
   "cell_type": "markdown",
   "metadata": {},
   "source": [
    "**COVID-19 en Chile** \n",
    "\n",
    "En esta tarea exploraremos los datos de Covid-19 en Chile a profundidad. Las siguientes celdas cargarán los datos a utilizar en tu sesión. Es importante que leas la documentación de cada conjunto de datos para comprender las columnas."
   ]
  },
  {
   "cell_type": "code",
   "execution_count": null,
   "metadata": {},
   "outputs": [],
   "source": [
    "start_date = pd.to_datetime(\"2020-04-13\")"
   ]
  },
  {
   "cell_type": "code",
   "execution_count": null,
   "metadata": {},
   "outputs": [],
   "source": [
    "# https://github.com/MinCiencia/Datos-COVID19/tree/master/output/producto6\n",
    "confirmados = (\n",
    "    pd.read_csv(\"https://raw.githubusercontent.com/MinCiencia/Datos-COVID19/master/output/producto6/bulk/data.csv\")\n",
    "    .rename(columns=lambda x: x.lower().replace(\" \", \"_\"))\n",
    "    .assign(fecha=lambda x: pd.to_datetime(x[\"fecha\"]))\n",
    "    .loc[lambda x: x[\"fecha\"] >= start_date]\n",
    "    .dropna()\n",
    "    .astype({\"casos_confirmados\": np.float, \"tasa\": np.float})\n",
    ")\n",
    "\n",
    "confirmados.head()"
   ]
  },
  {
   "cell_type": "code",
   "execution_count": null,
   "metadata": {},
   "outputs": [],
   "source": [
    "# https://github.com/MinCiencia/Datos-COVID19/tree/master/output/producto19\n",
    "activos = (\n",
    "    pd.read_csv(\"https://raw.githubusercontent.com/MinCiencia/Datos-COVID19/master/output/producto19/CasosActivosPorComuna.csv\")\n",
    "    .rename(columns=lambda x: x.lower().replace(\" \", \"_\"))\n",
    "    .loc[lambda x: x[\"codigo_comuna\"].notnull()]\n",
    "    .melt(id_vars=[\"region\", \"codigo_region\", \"comuna\", \"codigo_comuna\", \"poblacion\"], var_name=\"fecha\", value_name=\"casos_activos\")\n",
    "    .assign(fecha=lambda x: pd.to_datetime(x[\"fecha\"]))\n",
    "    .loc[lambda x: x[\"fecha\"] >= start_date]\n",
    ")\n",
    "\n",
    "activos.head()"
   ]
  },
  {
   "cell_type": "code",
   "execution_count": null,
   "metadata": {},
   "outputs": [],
   "source": [
    "# https://github.com/MinCiencia/Datos-COVID19/tree/master/output/producto14\n",
    "fallecidos = (\n",
    "    pd.read_csv(\"https://raw.githubusercontent.com/MinCiencia/Datos-COVID19/master/output/producto14/FallecidosCumulativo.csv\")\n",
    "    .rename(columns=lambda x: x.lower().replace(\" \", \"_\"))\n",
    "    .melt(id_vars=[\"region\"], var_name=\"fecha\", value_name=\"fallecidos\")\n",
    "    .assign(\n",
    "        fecha=lambda x: pd.to_datetime(x[\"fecha\"]),\n",
    "    )\n",
    "    .loc[lambda x: x[\"fecha\"] >= start_date]\n",
    ")\n",
    "\n",
    "fallecidos.head()"
   ]
  },
  {
   "cell_type": "code",
   "execution_count": null,
   "metadata": {},
   "outputs": [],
   "source": [
    "# https://github.com/MinCiencia/Datos-COVID19/tree/master/output/producto10\n",
    "fallecidos_etareo = (\n",
    "    pd.read_csv(\"https://raw.githubusercontent.com/MinCiencia/Datos-COVID19/master/output/producto10/FallecidosEtario.csv\")\n",
    "    .rename(columns=lambda x: x.lower().replace(\" \", \"_\"))\n",
    "    .melt(id_vars=[\"grupo_de_edad\"], var_name=\"fecha\", value_name=\"fallecidos\")\n",
    "    .assign(\n",
    "        fecha=lambda x: pd.to_datetime(x[\"fecha\"]),\n",
    "        grupo_de_edad=lambda x: x[\"grupo_de_edad\"].str.replace(\"<=39\", \"0-39\")\n",
    "    )\n",
    "    .loc[lambda x: x[\"fecha\"] >= start_date]\n",
    ")\n",
    "\n",
    "fallecidos_etareo.tail()"
   ]
  },
  {
   "cell_type": "markdown",
   "metadata": {},
   "source": [
    "## Ejercicio 1\n",
    "\n",
    "(10 puntos)\n",
    "\n",
    "Mostrar cantidad de fallecidos la fecha por cada grupo etáreo."
   ]
  },
  {
   "cell_type": "code",
   "execution_count": null,
   "metadata": {},
   "outputs": [],
   "source": [
    "fallecidos_etareo_final=fallecidos_etareo.groupby([\"grupo_de_edad\"]).aggregate(\"max\").reset_index()\n",
    "\n",
    "plot = alt.Chart(fallecidos_etareo_final).mark_bar().encode(\n",
    "    y=alt.Y(\"grupo_de_edad\",title=\"Grupo de edad\"),\n",
    "    x=alt.X(\"fallecidos:Q\",title=\"Fallecidos\"),\n",
    "    color=alt.Color(\"grupo_de_edad:N\",legend=None,scale=alt.Scale(scheme='darkblue',reverse=True))\n",
    ").properties(title=\"Fallecidos por grupo de edad a la fecha\",height=400,width=500,)\n",
    "text = plot.mark_text(\n",
    "    align='left',\n",
    "    baseline='middle',\n",
    "    dx=2,\n",
    "    dy=-2\n",
    ").encode(\n",
    "    text=\"fallecidos:Q\"\n",
    ")\n",
    "(plot + text).configure_axis(grid=False)"
   ]
  },
  {
   "cell_type": "markdown",
   "metadata": {},
   "source": [
    "**Comentarios:** RESPONDE AQUÍ"
   ]
  },
  {
   "cell_type": "markdown",
   "metadata": {},
   "source": [
    "## Ejercicio 2\n",
    "\n",
    "(10 puntos)\n",
    "\n",
    "¿Qué tan variable es la población de las comunas de Chile? Considera utilizar un gráfico que resuma de buena forma la información sin agregar la variable de región o provincia."
   ]
  },
  {
   "cell_type": "code",
   "execution_count": null,
   "metadata": {},
   "outputs": [],
   "source": [
    "plot = alt.Chart(confirmados).mark_line().encode(\n",
    "    x=alt.X(\"fecha\",title=\"Fecha\"),\n",
    "    y=alt.Y(\"poblacion\",title=\"Población\"),\n",
    "    color=alt.Color(\"comuna\",title=\"Comunas\")\n",
    ").properties(height=500,title=\"Población de las comunas en Chile a lo largo del tiempo\")\n",
    "\n",
    "points = alt.Chart(confirmados).mark_circle(size=0).encode(\n",
    "  color='comuna'\n",
    ")\n",
    "\n",
    "plot + points"
   ]
  },
  {
   "cell_type": "markdown",
   "metadata": {},
   "source": [
    "**Comentarios:** RESPONDE AQUÍ"
   ]
  },
  {
   "cell_type": "markdown",
   "metadata": {},
   "source": [
    "## Ejercicio 3\n",
    "\n",
    "(10 puntos)\n",
    "\n",
    "Mostrar evolución y comparación de los fallecimientos entre distintos grupos etáreos, pero que al mismo tiempo sea fácil identificar la cantidad de fallecidos total en cada fecha."
   ]
  },
  {
   "cell_type": "code",
   "execution_count": null,
   "metadata": {},
   "outputs": [],
   "source": [
    "dftotal=fallecidos_etareo.groupby([\"fecha\"]).aggregate(\"sum\").reset_index().assign(grupo_de_edad=\"total\")\n",
    "fallecidos_etareo_ex=fallecidos_etareo.append([dftotal])"
   ]
  },
  {
   "cell_type": "code",
   "execution_count": null,
   "metadata": {},
   "outputs": [],
   "source": [
    "nearest = alt.selection(type='single', nearest=True, on='mouseover',\n",
    "                        fields=['fecha'], empty='none', resolve='global')\n",
    "\n",
    "line = alt.Chart(fallecidos_etareo).mark_line(interpolate='basis').encode(\n",
    "    x=alt.X('fecha',title=\"Fecha\"),\n",
    "    y=alt.Y('fallecidos:Q',title=\"Fallecidos\"),\n",
    "    color=alt.Color(\"grupo_de_edad:N\",title=\"Grupo de edad\",scale=alt.Scale(scheme='category10'))\n",
    ")\n",
    "\n",
    "selectors = alt.Chart(fallecidos_etareo_ex).mark_point().encode(\n",
    "    x='fecha',\n",
    "    opacity=alt.value(0),\n",
    ").add_selection(nearest)\n",
    "\n",
    "points = line.mark_point().encode(\n",
    "    opacity=alt.condition(nearest, alt.value(1), alt.value(0)) )\n",
    "\n",
    "text = line.mark_text(align='right', dx=-2, dy=-5).encode(\n",
    "    text=alt.condition(nearest, 'fallecidos:Q', alt.value(' ')) )\n",
    "\n",
    "\n",
    "rules = alt.Chart(fallecidos_etareo_ex).mark_rule(color='gray').encode(\n",
    "    x='fecha',\n",
    ").transform_filter(nearest)\n",
    "\n",
    "\n",
    "totalline=alt.Chart(dftotal).mark_line(interpolate='basis').encode(\n",
    "    x=alt.X('fecha',title=\"Fecha\"),\n",
    "    y=alt.Y('fallecidos:Q',title=\"Fallecidos\"),\n",
    "    color=alt.Color(\"grupo_de_edad:N\",title=\"Grupo de edad\",scale=alt.Scale(scheme='category10')),\n",
    "    tooltip='fallecidos:Q'\n",
    ")\n",
    "\n",
    "totalpoints = totalline.mark_point().encode(\n",
    "    opacity=alt.condition(nearest, alt.value(1), alt.value(0)) )\n",
    "\n",
    "totaltext = totalline.mark_text(align='right', dx=-2, dy=-5).encode(\n",
    "    text=alt.condition(nearest, 'fallecidos:Q', alt.value(' ')) )\n",
    "\n",
    "datetext = totalline.mark_text(align='left').encode(\n",
    "    text=alt.condition(nearest, 'fecha:T', alt.value(' ')),\n",
    "    x=alt.value(5),\n",
    "    y=alt.value(10)\n",
    ").transform_calculate(label='datum.fecha + \" inches\"')\n",
    "\n",
    "plot=alt.layer(\n",
    "    line, selectors, points, rules, text, datetext\n",
    ").properties(title=\"Fallecidos por grupo etáreo\",\n",
    "    width=400,\n",
    "    height=400 )\n",
    "\n",
    "totalplot=alt.layer(\n",
    "    totalline, selectors, totalpoints, rules, totaltext, datetext\n",
    ").properties(title=\"Total fallecidos por grupo etáreo\",\n",
    "    width=400,\n",
    "    height=400 )\n",
    "\n",
    "plot | totalplot"
   ]
  },
  {
   "cell_type": "markdown",
   "metadata": {},
   "source": [
    "**Comentarios:** RESPONDE AQUÍ"
   ]
  },
  {
   "cell_type": "markdown",
   "metadata": {},
   "source": [
    "## Ejercicio 4\n",
    "\n",
    "(10 puntos)\n",
    "\n",
    "Mostrar en tres gráficos la evolución de casos confirmados, evolución de fallecimientos y evolución de casos activos."
   ]
  },
  {
   "cell_type": "code",
   "execution_count": null,
   "metadata": {},
   "outputs": [],
   "source": [
    "evo_confirmados = alt.Chart(confirmados).mark_line(interpolate='basis').encode(\n",
    "    x=alt.X(\"fecha:T\",title=\"Fecha\"),\n",
    "    y=alt.Y(\"sum(casos_confirmados)\",title=\"Casos confirmados\")\n",
    ").properties(title=\"Evolución de casos confirmados\",height=350,width=300)\n",
    "\n",
    "evo_fallecidos = alt.Chart(fallecidos).mark_line().encode(\n",
    "    x=alt.X(\"fecha:T\",title=\"Fecha\"),\n",
    "    y=alt.Y(\"sum(fallecidos)\",title=\"Fallecidos\")\n",
    ").properties(title=\"Evolución de fallecidos\",height=350,width=300)\n",
    "\n",
    "evo_activos = alt.Chart(activos).mark_line().encode(\n",
    "    x=alt.X(\"fecha:T\",title=\"Fecha\"),\n",
    "    y=alt.Y(\"sum(casos_activos)\",title=\"Casos activos\")\n",
    ").properties(title=\"Evolución de casos activos\",height=350,width=300)\n",
    "\n",
    "evo_confirmados|evo_fallecidos|evo_activos"
   ]
  },
  {
   "cell_type": "markdown",
   "metadata": {},
   "source": [
    "**Comentarios:** RESPONDE AQUÍ"
   ]
  },
  {
   "cell_type": "markdown",
   "metadata": {},
   "source": [
    "## Ejercicio 5\n",
    "\n",
    "(10 puntos)\n",
    "\n",
    "Comparar la tasa de incidencia entre las regiones a lo largo del tiempo."
   ]
  },
  {
   "cell_type": "code",
   "execution_count": null,
   "metadata": {},
   "outputs": [],
   "source": [
    "tasaregional = confirmados.drop(columns=[\"provincia_id\",\"provincia\",\"comuna_id\",\"comuna\",\"tasa\"]).groupby([\"fecha\",\"region_id\",\"region\"]).aggregate(\"sum\").reset_index()\n",
    "\n",
    "tasaregional[\"tasa\"]=100000*tasaregional[\"casos_confirmados\"]/tasaregional[\"poblacion\"]"
   ]
  },
  {
   "cell_type": "code",
   "execution_count": null,
   "metadata": {},
   "outputs": [],
   "source": [
    "highlight = alt.selection( type='single', on='mouseover', fields=[\"region\"],nearest=True)\n",
    "\n",
    "base = alt.Chart(tasaregional).encode(\n",
    "    x=alt.X(\"fecha\",title=\"Fecha\"),\n",
    "    y=alt.Y(\"tasa:Q\",title=\"Tasa de incidencia\"),\n",
    "    color=alt.Color(\"region:N\", title=\"Región\", scale=alt.Scale(scheme='tableau20')),\n",
    ").properties(title=\"Tasa de insidencia regional\",\n",
    "    width=600,\n",
    "    height=400\n",
    ")\n",
    "\n",
    "points = base.mark_circle().encode(\n",
    "    opacity=alt.value(0)\n",
    ").add_selection(highlight).properties()\n",
    "\n",
    "lines = base.mark_line().encode(\n",
    "    size=alt.condition(~highlight,alt.value(1),alt.value(3))\n",
    ")\n",
    "\n",
    "text = base.mark_text(align='right', dx=-2, dy=-5,interpolate='basis').encode(\n",
    "    alt.X('fecha:T', aggregate='max',title=\"\"),\n",
    "    alt.Y('tasa:Q', aggregate={'argmax': 'fecha'},title=\"\"),\n",
    "    text=alt.condition(highlight, 'region:N', alt.value(' '))\n",
    ")\n",
    "points + lines + text"
   ]
  },
  {
   "cell_type": "markdown",
   "metadata": {},
   "source": [
    "**Comentarios:** RESPONDE AQUÍ"
   ]
  },
  {
   "cell_type": "markdown",
   "metadata": {},
   "source": [
    "## Ejercicio 6\n",
    "\n",
    "(10 puntos)\n",
    "\n",
    "¿Hay alguna conclusión que puedas obtener rápidamente al graficar un _scatter plot_ con los casos confirmados y tasa de incidencia de cada comuna para los días 13 de abril y 6 de noviembre del 2020? Además, colorea cada punto según la región a la que pertenece y considera si es útil en el gráfico que el tamaño sea proporcional a la población."
   ]
  },
  {
   "cell_type": "code",
   "execution_count": null,
   "metadata": {},
   "outputs": [],
   "source": [
    "date1=pd.to_datetime(\"2020-04-13\")\n",
    "date2=pd.to_datetime(\"2020-11-06\")"
   ]
  },
  {
   "cell_type": "code",
   "execution_count": null,
   "metadata": {},
   "outputs": [],
   "source": [
    "confirmados1 = confirmados[confirmados[\"fecha\"]==date1]\n",
    "confirmados2 = confirmados[confirmados[\"fecha\"]==date2]\n",
    "\n",
    "plot1_tasa = alt.Chart(confirmados1).mark_circle().encode(\n",
    "    x=alt.X(\"casos_confirmados:Q\",title=\"Casos confirmados\"),\n",
    "    y=alt.Y(\"tasa:Q\",title=\"Tasa\"),\n",
    "    color=\"region\",\n",
    "    size=\"poblacion\",\n",
    "    tooltip=[alt.Tooltip(\"region\",title=\"Región\"),alt.Tooltip(\"comuna\",title=\"Comuna\")]\n",
    ").properties(title=f\"scatter plot para el día {date1.date()}\",height=350)\n",
    "\n",
    "plot2_tasa = alt.Chart(confirmados2).mark_circle().encode(\n",
    "    x=alt.X(\"casos_confirmados:Q\",title=\"Casos confirmados\"),\n",
    "    y=alt.Y(\"tasa:Q\",title=\"Tasa\"),\n",
    "    color=alt.Color(\"region\",title=\"Región\"),\n",
    "    size=alt.Size(\"poblacion\",title=\"Población\"),\n",
    "    tooltip=[alt.Tooltip(\"region\",title=\"Región\"),alt.Tooltip(\"comuna\",title=\"Comuna\")]\n",
    ").properties(title=f\"scatter plot para el día {date2.date()}\",height=350)\n",
    "\n",
    "\n",
    "\n",
    "plot1_tasa | plot2_tasa"
   ]
  },
  {
   "cell_type": "markdown",
   "metadata": {},
   "source": [
    "**Comentarios:** RESPONDE AQUÍ"
   ]
  },
  {
   "cell_type": "markdown",
   "metadata": {},
   "source": [
    "## Ejercicio 7\n",
    "\n",
    "(10 puntos)\n",
    "\n",
    "1. Grafica la evolución de los casos activos de cada comuna en un solo gráfico. \n",
    "2. Grafica la evolución de los casos activos de cada comuna en gráficos separados por región.\n",
    "\n",
    "Entrega los pros y contras de cada uno de estos enfoques."
   ]
  },
  {
   "cell_type": "code",
   "execution_count": null,
   "metadata": {},
   "outputs": [],
   "source": [
    "plot = alt.Chart(activos).mark_line().encode(\n",
    "    x=alt.X(\"fecha:T\",title=\"Fecha\"),\n",
    "    y=alt.Y(\"casos_activos:Q\",title=\"Casos activos\"),\n",
    "    color=alt.Color(\"comuna\",title=\"Comuna\"),\n",
    "    tooltip=\"comuna\"\n",
    ").properties(height=500,width=700,title=\"Evolución de casos activos por comuna\")\n",
    "points = alt.Chart(activos).mark_circle(size=0).encode(\n",
    "  color='comuna'\n",
    ")\n",
    "plot + points"
   ]
  },
  {
   "cell_type": "code",
   "execution_count": null,
   "metadata": {},
   "outputs": [],
   "source": [
    "plot = alt.Chart(activos).mark_line().encode(\n",
    "    x=alt.X(\"fecha:T\",title=\"Fecha\"),\n",
    "    y=alt.Y(\"casos_activos:Q\",title=\"Casos activos\"),\n",
    "    color=alt.Color(\"comuna\",title=\"Comuna\"),\n",
    "    tooltip=\"comuna\"\n",
    ").properties(title=\"Evolución de casos activos por comuna (con filtro por Región)\",height=500,width=700)\n",
    "\n",
    "circles = plot.mark_circle().encode(\n",
    "    x=\"fecha:T\",\n",
    "    y=\"casos_activos:Q\",\n",
    "    color=alt.Color(\"comuna\"),\n",
    "    tooltip=\"comuna\"\n",
    ").properties()\n",
    "\n",
    "points = alt.Chart(activos).mark_circle(size=0).encode(\n",
    "  color='comuna'\n",
    ")\n",
    "\n",
    "dropdown = alt.binding_select(options=np.array(activos[\"region\"].unique()))\n",
    "selector = alt.selection_single(fields=[\"region\"], bind=dropdown, name=\"s\")\n",
    "\n",
    "plot_selector = plot.add_selection(\n",
    "    selector\n",
    ").transform_filter(selector)\n",
    "\n",
    "circle_selector = circles.add_selection(\n",
    "    selector\n",
    ").transform_filter(selector)\n",
    "\n",
    "plot_selector + points"
   ]
  },
  {
   "cell_type": "markdown",
   "metadata": {},
   "source": [
    "**Comentarios:** RESPONDE AQUÍ"
   ]
  },
  {
   "cell_type": "markdown",
   "metadata": {},
   "source": [
    "## Ejercicio 8\n",
    "\n",
    "(10 puntos)\n",
    "\n",
    "Hacer un gráfico que permita comparar rápidamente entre regiones su promedio de casos activos , máximo de casos confirmados y fallecidos. Utiliza los valores reales y apoyarlos con colores.\n",
    "\n",
    "Se adjunta el diccionario `region_names` con tal de reemplazar los nombres de las regiones en los datos `fallecidos` para poder unir con los otros datos. "
   ]
  },
  {
   "cell_type": "code",
   "execution_count": null,
   "metadata": {},
   "outputs": [],
   "source": [
    "region_names = {\n",
    "    \"Araucanía\": \"La Araucanía\",\n",
    "    \"Aysén\": \"Aysén del General Carlos Ibáñez del Campo\",\n",
    "    \"Magallanes\": \"Magallanes y de la Antártica Chilena\",\n",
    "    \"Metropolitana\": \"Metropolitana de Santiago\",\n",
    "    \"O’Higgins\": \"Libertador General Bernardo O'Higgins\",\n",
    "}\n",
    "region_names_ = {\n",
    "    \"Araucanía\": \"La Araucanía\",\n",
    "    \"Aysén\": \"Aysén del General Carlos Ibáñez del Campo\",\n",
    "    \"Magallanes\": \"Magallanes y de la Antártica Chilena\",\n",
    "    \"Metropolitana\": \"Metropolitana de Santiago\",\n",
    "    \"O’Higgins\": \"Libertador General Bernardo O'Higgins\",\n",
    "    \"Tarapaca\": \"Tarapacá\",\n",
    "    \"Valparaiso\": \"Valparaíso\",\n",
    "    \"Del Libertador General Bernardo O’Higgins\": \"Libertador General Bernardo O'Higgins\",\n",
    "    \"Nuble\": \"Ñuble\",\n",
    "    \"Biobio\": \"Biobío\",\n",
    "    \"La Araucania\": \"La Araucanía\",\n",
    "    \"Los Rios\": \"Los Ríos\",\n",
    "    \"Aysen\": \"Aysén del General Carlos Ibáñez del Campo\",\n",
    "    \"Magallanes y la Antartica\": \"Magallanes y de la Antártica Chilena\"\n",
    "}"
   ]
  },
  {
   "cell_type": "code",
   "execution_count": null,
   "metadata": {},
   "outputs": [],
   "source": [
    "fallecidos_ = fallecidos[fallecidos[\"region\"]!=\"Total\"].replace(region_names_)\n",
    "\n",
    "activos_ = activos.replace(region_names_)\\\n",
    "    .drop(columns=[\"comuna\",\"codigo_comuna\",\"poblacion\"])\\\n",
    "    .groupby([\"region\",\"codigo_region\",\"fecha\"])\\\n",
    "    .aggregate(\"sum\").reset_index()\n",
    "\n",
    "confirmados_ = confirmados\\\n",
    "    .drop(columns=[\"provincia_id\",\"provincia\",\"comuna_id\",\"comuna\",\"tasa\"])\\\n",
    "    .groupby([\"fecha\",\"region_id\",\"region\"]).aggregate(\"sum\")\\\n",
    "    .reset_index().rename(columns={\"region_id\":\"codigo_region\"}).replace(region_names_)\n",
    "\n",
    "confirmados_[\"tasa\"]=100000*confirmados_[\"casos_confirmados\"]/confirmados_[\"poblacion\"]\n",
    "\n",
    "merge = pd.merge(activos_, fallecidos_ , on=[\"region\",\"fecha\"])\n",
    "merge = pd.merge(merge, confirmados_, on=[\"region\",\"codigo_region\",\"fecha\"])"
   ]
  },
  {
   "cell_type": "code",
   "execution_count": null,
   "metadata": {},
   "outputs": [],
   "source": [
    "selection = alt.selection_interval(bind='scales')\n",
    "\n",
    "plot = alt.Chart(merge).mark_circle().encode(\n",
    "    x=\"max(fallecidos):Q\",\n",
    "    y=\"max(casos_confirmados):Q\",\n",
    "    size=\"mean(casos_activos)\",\n",
    "    color=\"region\",\n",
    "    tooltip=[alt.Tooltip(\"region\",title=\"Región\")]\n",
    ").properties(height=400,width=700)\n",
    "plot"
   ]
  },
  {
   "cell_type": "markdown",
   "metadata": {},
   "source": [
    "**Comentarios:** RESPONDE AQUÍ"
   ]
  },
  {
   "cell_type": "markdown",
   "metadata": {},
   "source": [
    "## Ejercicio 9\n",
    "\n",
    "\n",
    "En este ejercicio buscaremos realizar un mini-dashboard respecto al estado de los casos de COVID-19 en Chile, por lo tanto utilizaremos haremos uso de datos geográficos de manera operacional (es decir, no nos preocuparemos de proyecciones en mapas ni nada por el estilo), lo único es que debes instalar `geopandas` en tu ambiente virtual y no olvidar actualizarlo en tu `environment.yml` para luego subirlo a tu repositorio de GitHub.\n",
    "\n",
    "Con tu ambiente activo (`conda activate mat281`) basta con ejecutar `conda install -c conda-forge geopandas` para instalar `geopandas`."
   ]
  },
  {
   "cell_type": "code",
   "execution_count": null,
   "metadata": {},
   "outputs": [],
   "source": [
    "import geopandas as gpd\n",
    "from pathlib import Path"
   ]
  },
  {
   "cell_type": "code",
   "execution_count": null,
   "metadata": {},
   "outputs": [],
   "source": [
    "shp_filepath = Path().resolve().parent / \"data\" / \"regiones_chile.shp\"\n",
    "regiones = gpd.read_file(shp_filepath)\n",
    "regiones.head()"
   ]
  },
  {
   "cell_type": "code",
   "execution_count": null,
   "metadata": {},
   "outputs": [],
   "source": [
    "type(regiones)"
   ]
  },
  {
   "cell_type": "markdown",
   "metadata": {},
   "source": [
    "Lo único que tienes que saber es que un `GeoDataFrame` es idéntico a un `DataFrame` salvo que debe poseer una columna llamada `geometry` caracterice los elementros geométricos, que en este casos son polígonos con los límites de las regiones de Chile. \n",
    "\n",
    "Para graficar mapas en Altair se debe usar `mark_geoshape`, además, para no preocuparnos de las proyecciones si o si debes declarar lo siguiente que se muestra en la siguiente celda en las propiedades del gráfico. El resto es igual a cualquier otro gráfico de Altair."
   ]
  },
  {
   "cell_type": "code",
   "execution_count": null,
   "metadata": {},
   "outputs": [],
   "source": [
    "alt.Chart(regiones).mark_geoshape().encode(\n",
    ").properties(\n",
    "    projection={'type': 'identity', 'reflectY': True},\n",
    "    width=250,\n",
    "    height=600\n",
    ")"
   ]
  },
  {
   "cell_type": "markdown",
   "metadata": {},
   "source": [
    "### Ejercicio 9.1\n",
    "\n",
    "(10 puntos)\n",
    "\n",
    "Define el `DataFrame` con el nombre `casos_geo` tal que tenga las columnas\n",
    "\n",
    "* `region`\n",
    "* `codigo_region`\n",
    "* `fecha`\n",
    "* `poblacion`\n",
    "* `casos_confirmados`\n",
    "* `tasa`\n",
    "* `casos_activos`\n",
    "* `fallecidos`\n",
    "* `geometry`\n",
    "\n",
    "Ten mucho cuidado como unes los dataframes `confirmados`, `activos`, `fallecidos` y `regiones`. Idealmente utilizar el código de región, pero en caso que no se encuentren disponibles utilizar el nombre de la región (no olivdar utilizar el diccionario `region_names`)."
   ]
  },
  {
   "cell_type": "code",
   "execution_count": null,
   "metadata": {},
   "outputs": [],
   "source": [
    "regiones_ = regiones.drop(columns=[\"objectid\",\"cir_sena\",\"area_km\",\"st_area_sh\",\"st_length_\"])\\\n",
    "    .rename(columns={\"Region\":\"region\",\"codregion\":\"codigo_region\"})"
   ]
  },
  {
   "cell_type": "code",
   "execution_count": null,
   "metadata": {},
   "outputs": [],
   "source": [
    "casos_geo = pd.merge(merge, regiones_, on=[\"codigo_region\"])\\\n",
    "    .rename(columns={\"region_x\":\"region\"})\\\n",
    "    .drop(columns=\"region_y\")"
   ]
  },
  {
   "cell_type": "markdown",
   "metadata": {},
   "source": [
    "Ejecuta lo siguiente para convertir el DataFrame anterior en un GeoDataFrames"
   ]
  },
  {
   "cell_type": "code",
   "execution_count": null,
   "metadata": {},
   "outputs": [],
   "source": [
    "casos_geo = casos_geo.pipe(lambda x: gpd.GeoDataFrame(x, geometry=\"geometry\"))\n",
    "casos_geo.head()"
   ]
  },
  {
   "cell_type": "markdown",
   "metadata": {},
   "source": [
    "### Ejercicio 9.2\n",
    "\n",
    "(5 puntos)\n",
    "\n",
    "Modifica la función `covid_chile_chart` tal que reciba una fecha y una columna. Luego, debe filtrar `casos_geo` con registros de la fecha seleccionada y graficar un mapa donde las regiones se colereen según la columna escogida. "
   ]
  },
  {
   "cell_type": "code",
   "execution_count": null,
   "metadata": {},
   "outputs": [],
   "source": [
    "columnas= {'Población': \"poblacion\",\n",
    "'Casos confirmados': \"casos_confirmados\",\n",
    "'Tasa': \"tasa\",\n",
    "'Casos activos': \"casos_activos\",\n",
    "'Fallecidos': \"fallecidos\"}"
   ]
  },
  {
   "cell_type": "code",
   "execution_count": null,
   "metadata": {},
   "outputs": [],
   "source": [
    "def covid_chile_chart(fecha, col):\n",
    "    fecha = pd.to_datetime(fecha)\n",
    "    data = casos_geo[[\"region\",\"codigo_region\",\"fecha\",col,\"geometry\"]]\n",
    "    data = data[data[\"fecha\"]==fecha]\n",
    "    col = col\n",
    "    chart = alt.Chart(data).mark_geoshape().encode(\n",
    "        color=alt.Color(col, title=col.capitalize().replace(\"_\", \" \"), scale=alt.Scale(scheme='lightgreyteal'))\n",
    "    ).properties(\n",
    "        projection={'type': 'identity', 'reflectY': True},\n",
    "        width=150,\n",
    "        height=400\n",
    "    )\n",
    "    \n",
    "    chart.display()\n",
    "    return"
   ]
  },
  {
   "cell_type": "markdown",
   "metadata": {},
   "source": [
    "Prueba con lo siguiente"
   ]
  },
  {
   "cell_type": "code",
   "execution_count": null,
   "metadata": {},
   "outputs": [],
   "source": [
    "fecha = \"2020-04-13\"\n",
    "col = \"tasa\"\n",
    "covid_chile_chart(fecha, col)"
   ]
  },
  {
   "cell_type": "markdown",
   "metadata": {},
   "source": [
    "### Ejercicio 9.3\n",
    "\n",
    "(5 puntos)\n",
    "\n",
    "Ahora utilizando `widgets` generaremos el dashboard interactivo. Define lo siguiente:\n",
    "\n",
    "* col_widget: Un `widgets.Dropdown` donde las opciones a seleccionar sean las columnas `poblacion`, `casos_confirmados`, `tasa`, `casos_activos` y `fallecidos`. Además, el argumento `description` debe ser `Columna`.\n",
    "* fecha_widget: Un `widgets.DatePicker` donde el argumento `description` sea `Fecha`.\n",
    "* Ambos widgets deben tener el argumento `continuous_update=False`"
   ]
  },
  {
   "cell_type": "code",
   "execution_count": null,
   "metadata": {},
   "outputs": [],
   "source": [
    "import ipywidgets as widgets\n",
    "from ipywidgets import interactive, interact"
   ]
  },
  {
   "cell_type": "code",
   "execution_count": null,
   "metadata": {},
   "outputs": [],
   "source": [
    "col_widget = widgets.Dropdown(\n",
    "    options=[('Población', \"poblacion\"), ('Casos confirmados', \"casos_confirmados\"), ('Tasa', \"tasa\"), ('Casos activos', \"casos_activos\"), ('Fallecidos', \"fallecidos\")],\n",
    "    value='casos_activos',\n",
    "    description='Columna',\n",
    "    continuous_update=False\n",
    ")"
   ]
  },
  {
   "cell_type": "code",
   "execution_count": null,
   "metadata": {},
   "outputs": [],
   "source": [
    "start=pd.to_datetime(\"2020-11-09\")\n",
    "fecha_widget = widgets.DatePicker(\n",
    "    description='Fecha',\n",
    "    value=start,\n",
    "    continuous_update=False\n",
    ")"
   ]
  },
  {
   "cell_type": "markdown",
   "metadata": {},
   "source": [
    "Finalmente, haciendo uso de `interactive`, la función `covid_chile_chart` y todos los widgets es posible crear un _dashboard_ interactivo con los datos de Covid-19.\n",
    "\n",
    "Respira profundo y explora tu creación!"
   ]
  },
  {
   "cell_type": "code",
   "execution_count": null,
   "metadata": {},
   "outputs": [],
   "source": [
    "covid_dashboard = interactive(\n",
    "    covid_chile_chart,\n",
    "    fecha=fecha_widget,\n",
    "    col=col_widget\n",
    ")\n",
    "covid_dashboard"
   ]
  },
  {
   "cell_type": "markdown",
   "metadata": {},
   "source": [
    "**Comentarios:** Ta bonito"
   ]
  }
 ],
 "metadata": {
  "kernelspec": {
   "display_name": "Python 3",
   "language": "python",
   "name": "python3"
  },
  "language_info": {
   "codemirror_mode": {
    "name": "ipython",
    "version": 3
   },
   "file_extension": ".py",
   "mimetype": "text/x-python",
   "name": "python",
   "nbconvert_exporter": "python",
   "pygments_lexer": "ipython3",
   "version": "3.7.8"
  }
 },
 "nbformat": 4,
 "nbformat_minor": 4
}
